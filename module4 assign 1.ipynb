{
 "cells": [
  {
   "cell_type": "code",
   "execution_count": 1,
   "metadata": {},
   "outputs": [],
   "source": [
    "#1"
   ]
  },
  {
   "cell_type": "code",
   "execution_count": 31,
   "metadata": {},
   "outputs": [
    {
     "name": "stdout",
     "output_type": "stream",
     "text": [
      " 1\n",
      " 2\n",
      "FIZZ\n",
      " 4\n",
      "BUZZ\n",
      "FIZZ\n",
      " 7\n",
      " 8\n",
      "FIZZ\n",
      "BUZZ\n",
      " 11\n",
      "FIZZ\n",
      " 13\n",
      " 14\n",
      "FIZZBUZZ\n",
      " 16\n",
      " 17\n",
      "FIZZ\n",
      " 19\n",
      "BUZZ\n",
      "FIZZ\n",
      " 22\n",
      " 23\n",
      "FIZZ\n",
      "BUZZ\n",
      " 26\n",
      "FIZZ\n",
      " 28\n",
      " 29\n",
      "FIZZBUZZ\n",
      " 31\n",
      " 32\n",
      "FIZZ\n",
      " 34\n",
      "BUZZ\n",
      "FIZZ\n",
      " 37\n",
      " 38\n",
      "FIZZ\n",
      "BUZZ\n",
      " 41\n",
      "FIZZ\n",
      " 43\n",
      " 44\n",
      "FIZZBUZZ\n",
      " 46\n",
      " 47\n",
      "FIZZ\n",
      " 49\n",
      "BUZZ\n",
      "FIZZ\n",
      " 52\n",
      " 53\n",
      "FIZZ\n",
      "BUZZ\n",
      " 56\n",
      "FIZZ\n",
      " 58\n",
      " 59\n",
      "FIZZBUZZ\n",
      " 61\n",
      " 62\n",
      "FIZZ\n",
      " 64\n",
      "BUZZ\n",
      "FIZZ\n",
      " 67\n",
      " 68\n",
      "FIZZ\n",
      "BUZZ\n",
      " 71\n",
      "FIZZ\n",
      " 73\n",
      " 74\n",
      "FIZZBUZZ\n",
      " 76\n",
      " 77\n",
      "FIZZ\n",
      " 79\n",
      "BUZZ\n",
      "FIZZ\n",
      " 82\n",
      " 83\n",
      "FIZZ\n",
      "BUZZ\n",
      " 86\n",
      "FIZZ\n",
      " 88\n",
      " 89\n",
      "FIZZBUZZ\n",
      " 91\n",
      " 92\n",
      "FIZZ\n",
      " 94\n",
      "BUZZ\n",
      "FIZZ\n",
      " 97\n",
      " 98\n",
      "FIZZ\n"
     ]
    }
   ],
   "source": [
    "for i in range(1,100):\n",
    "    if i%3==0 and i%5==0:\n",
    "        print(\"FIZZBUZZ\")\n",
    "    elif i%5==0:\n",
    "        print(\"BUZZ\")\n",
    "    elif i%3==0:\n",
    "        print(\"FIZZ\")\n",
    "    else:\n",
    "        print(\"\",i)"
   ]
  },
  {
   "cell_type": "code",
   "execution_count": 32,
   "metadata": {},
   "outputs": [],
   "source": [
    "#2"
   ]
  },
  {
   "cell_type": "code",
   "execution_count": 33,
   "metadata": {},
   "outputs": [
    {
     "name": "stdout",
     "output_type": "stream",
     "text": [
      "[2, 3, 5, 1, 2]\n"
     ]
    }
   ],
   "source": [
    "list = [1,1,1,1,1,1,2,3,4,4,5,1,2]\n",
    "i = 0\n",
    "dope = False\n",
    "\n",
    "while i < len(list)-1:\n",
    "    if list[i] == list[i+1]:\n",
    "        del list[i]\n",
    "        dope = True\n",
    "    elif dope:\n",
    "        del list[i]\n",
    "        dope = False\n",
    "    else:\n",
    "        i += 1\n",
    "print(list)"
   ]
  },
  {
   "cell_type": "markdown",
   "metadata": {},
   "source": [
    "#3"
   ]
  },
  {
   "cell_type": "code",
   "execution_count": 36,
   "metadata": {},
   "outputs": [
    {
     "name": "stdout",
     "output_type": "stream",
     "text": [
      "Enter number of elements : 1\n",
      "enter your elements:2\n",
      "your previous list: [2]\n",
      "your new list: [2]\n"
     ]
    }
   ],
   "source": [
    "lst = [] \n",
    "n = int(input(\"Enter number of elements : \")) \n",
    "for i in range(0, n): \n",
    "    ele = int(input(\"enter your elements:\")) \n",
    "    lst.append(ele)  \n",
    "print(\"your previous list:\",lst) \n",
    "\n",
    "\n",
    "lst2 = [] \n",
    "\n",
    "for x in lst: \n",
    "    if x not in lst2: \n",
    "        lst2.append(x) \n",
    "print(\"your new list:\",lst2)"
   ]
  },
  {
   "cell_type": "code",
   "execution_count": null,
   "metadata": {},
   "outputs": [],
   "source": [
    "#4"
   ]
  },
  {
   "cell_type": "code",
   "execution_count": 38,
   "metadata": {},
   "outputs": [],
   "source": [
    "def check():\n",
    "    a=int(input(\"enter value to check:\"))\n",
    "    b=int(input(\"enter the minimum range:\"))\n",
    "    c=int(input(\"enter the maximum range:\"))\n",
    "    j=0\n",
    "    for i in range(b,c+1):\n",
    "        if(i==a):\n",
    "            j=1\n",
    "            break\n",
    "        else:\n",
    "            j=0\n",
    "          \n",
    "    if(j==1):\n",
    "        print(\"Yes..its in!\")\n",
    "    else:\n",
    "        print(\"Nope..not in range!\")"
   ]
  },
  {
   "cell_type": "code",
   "execution_count": 35,
   "metadata": {},
   "outputs": [],
   "source": [
    "#5"
   ]
  },
  {
   "cell_type": "code",
   "execution_count": 39,
   "metadata": {},
   "outputs": [],
   "source": [
    "def cnt():\n",
    "    \n",
    "    s1=input(\"enter a string :\").strip()\n",
    "    count=0\n",
    "    countu=0\n",
    "    for i in s1:\n",
    "        if(i.islower()):\n",
    "            count+=1\n",
    "            \n",
    "        elif(i.isupper()):\n",
    "            countu+=1\n",
    "            \n",
    "        else:\n",
    "            pass\n",
    "    print(\"THE NUMBER OF UPPER CASES ARE :\",countu)\n",
    "    print(\"THE NUMBER OF LOWER CASSES ARE: \",count)"
   ]
  },
  {
   "cell_type": "code",
   "execution_count": null,
   "metadata": {},
   "outputs": [],
   "source": []
  }
 ],
 "metadata": {
  "kernelspec": {
   "display_name": "Python 3",
   "language": "python",
   "name": "python3"
  },
  "language_info": {
   "codemirror_mode": {
    "name": "ipython",
    "version": 3
   },
   "file_extension": ".py",
   "mimetype": "text/x-python",
   "name": "python",
   "nbconvert_exporter": "python",
   "pygments_lexer": "ipython3",
   "version": "3.8.3"
  }
 },
 "nbformat": 4,
 "nbformat_minor": 4
}
